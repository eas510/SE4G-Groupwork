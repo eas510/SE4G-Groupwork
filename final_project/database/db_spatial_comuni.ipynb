{
 "cells": [
  {
   "cell_type": "code",
   "execution_count": 5,
   "id": "966f4d45-c65e-4a49-8b6e-7efa426b30ee",
   "metadata": {},
   "outputs": [
    {
     "name": "stdout",
     "output_type": "stream",
     "text": [
      "Comuni table created successfully.\n"
     ]
    },
    {
     "name": "stderr",
     "output_type": "stream",
     "text": [
      "C:\\Users\\EQUIPO\\.conda\\envs\\se4g\\Lib\\site-packages\\osmnx\\_overpass.py:254: UserWarning: This area is 11 times your configured Overpass max query area size. It will automatically be divided up into multiple sub-queries accordingly. This may take a long time.\n",
      "  multi_poly_proj = utils_geo._consolidate_subdivide_geometry(poly_proj)\n"
     ]
    },
    {
     "name": "stdout",
     "output_type": "stream",
     "text": [
      "All comuni boundaries have been inserted into the database.\n"
     ]
    }
   ],
   "source": [
    "import psycopg2\n",
    "import osmnx as ox\n",
    "import geopandas as gpd\n",
    "from shapely import wkb\n",
    "from shapely.geometry import Polygon, MultiPolygon\n",
    "\n",
    "# Database connection parameters\n",
    "db_name = \"postgres\"\n",
    "user = \"postgres\"\n",
    "password = \".s41352491.\"\n",
    "host = \"localhost\"\n",
    "\n",
    "\n",
    "\n",
    "def create_table(cur):\n",
    "    # delete table if already exists\n",
    "    cur.execute(\"DROP TABLE IF EXISTS comuni CASCADE;\")\n",
    "    cur.execute(\"\"\"\n",
    "    CREATE TABLE comuni (\n",
    "        id SERIAL PRIMARY KEY,\n",
    "        name VARCHAR(255),\n",
    "        geom GEOMETRY(MultiPolygon, 4326)\n",
    "    );\n",
    "    \"\"\")\n",
    "    conn.commit()\n",
    "\n",
    "\n",
    "def insert_comuni_data(cur, comuni):\n",
    "    for idx, row in comuni.iterrows():\n",
    "        name = row.get('name', 'Unknown')\n",
    "        geom = row['geometry']\n",
    "\n",
    "        # print(f\"Geometry type before conversion: {type(geom)}\")\n",
    "\n",
    "        # convert Polygon to MultiPolygon\n",
    "        if isinstance(geom, Polygon):\n",
    "            geom = MultiPolygon([geom])\n",
    "\n",
    "        # print(f\"Geometry type after conversion: {type(geom)}\")\n",
    "\n",
    "        # only insert Polygon or MultiPolygon type of geometry data\n",
    "        if isinstance(geom, (Polygon, MultiPolygon)):\n",
    "            wkt_geom = geom.wkt\n",
    "            cur.execute(\"\"\"\n",
    "                INSERT INTO comuni (name, geom)\n",
    "                VALUES (%s, ST_SetSRID(ST_GeomFromText(%s), 4326));\n",
    "            \"\"\", (name, wkt_geom))\n",
    "    conn.commit()\n",
    "\n",
    "\n",
    "try:\n",
    "    # connect to database\n",
    "    conn = psycopg2.connect(dbname=db_name, user=user, password=password, host=host)\n",
    "    cur = conn.cursor()\n",
    "\n",
    "    # create table\n",
    "    create_table(cur)\n",
    "    print(\"Comuni table created successfully.\")\n",
    "\n",
    "    # get Emilia-Romagna boundary data\n",
    "    gdf = ox.geocode_to_gdf('Emilia-Romagna, Italy')\n",
    "    polygon = gdf.iloc[0].geometry\n",
    "\n",
    "    # get comuni boundary with new function name\n",
    "    tags = {'boundary': 'administrative', 'admin_level': '8'}\n",
    "    comuni = ox.features_from_polygon(polygon, tags)\n",
    "\n",
    "    # insert data\n",
    "    insert_comuni_data(cur, comuni)\n",
    "\n",
    "    print(\"All comuni boundaries have been inserted into the database.\")\n",
    "    cur.close()\n",
    "    conn.close()\n",
    "\n",
    "except Exception as e:\n",
    "    print(f\"An error occurred: {e}\")\n",
    "\n",
    "finally:\n",
    "    if conn:\n",
    "        conn.close()"
   ]
  },
  {
   "cell_type": "code",
   "execution_count": null,
   "id": "52fdb48e-8455-4723-8983-52e66d20f182",
   "metadata": {},
   "outputs": [],
   "source": []
  },
  {
   "cell_type": "code",
   "execution_count": null,
   "id": "7eb06462-d01c-483e-8854-c1b3796f6ddd",
   "metadata": {},
   "outputs": [],
   "source": []
  },
  {
   "cell_type": "code",
   "execution_count": null,
   "id": "40eab646-896c-48ae-9f06-f5fac151a243",
   "metadata": {},
   "outputs": [],
   "source": []
  }
 ],
 "metadata": {
  "kernelspec": {
   "display_name": "Python 3 (ipykernel)",
   "language": "python",
   "name": "python3"
  },
  "language_info": {
   "codemirror_mode": {
    "name": "ipython",
    "version": 3
   },
   "file_extension": ".py",
   "mimetype": "text/x-python",
   "name": "python",
   "nbconvert_exporter": "python",
   "pygments_lexer": "ipython3",
   "version": "3.12.2"
  }
 },
 "nbformat": 4,
 "nbformat_minor": 5
}
