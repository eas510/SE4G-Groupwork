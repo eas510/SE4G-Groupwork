{
 "cells": [
  {
   "cell_type": "code",
   "execution_count": 1,
   "id": "699e2a0f-9e99-4b21-aad7-3a3a2fcc67f9",
   "metadata": {},
   "outputs": [],
   "source": [
    "## Web server Flask"
   ]
  },
  {
   "cell_type": "code",
   "execution_count": null,
   "id": "6d6d1bfe-bc76-4cc1-91f4-a0bf059f9941",
   "metadata": {},
   "outputs": [],
   "source": [
    "from flask import Flask, jsonify\n",
    "import psycopg2\n",
    "from psycopg2.extras import RealDictCursor\n",
    "\n",
    "app = Flask(__name__)\n",
    "\n",
    "def db_connection():\n",
    "    conn = psycopg2.connect(\n",
    "        dbname='postgres',\n",
    "        user='postgres',\n",
    "        password='.s41352491.',\n",
    "        host='localhost'\n",
    "    )\n",
    "    return conn\n",
    "\n",
    "@app.route('/comunes', methods=['GET'])\n",
    "def getComunes():\n",
    "    conn = db_connection()\n",
    "    cursor = conn.cursor(cursor_factory=RealDictCursor)\n",
    "    cursor.execute('''\n",
    "        SELECT DISTINCT ON (apd.nome) apd.*, \n",
    "               COALESCE(ST_AsGeoJSON(c.geom), '{}') as geom \n",
    "        FROM public.api_data_new apd \n",
    "        LEFT JOIN public.comuni c ON c.name = apd.nome;\n",
    "    ''')\n",
    "    comunes = cursor.fetchall()\n",
    "    cursor.close()\n",
    "    conn.close()\n",
    "    \n",
    "    # Ensure proper encoding and format\n",
    "    for comune in comunes:\n",
    "        if isinstance(comune['geom'], str):\n",
    "            comune['geom'] = comune['geom'].encode('utf-8')  # Ensure utf-8 encoding\n",
    "\n",
    "    return jsonify(comunes)\n",
    "\n",
    "@app.route('/comunes/<int:id>', methods=['GET'])\n",
    "def getComunesById(id):\n",
    "    conn = db_connection()\n",
    "    cursor = conn.cursor(cursor_factory=RealDictCursor)\n",
    "    cursor.execute('''\n",
    "        SELECT DISTINCT ON (apd.nome) apd.*, ST_AsGeoJSON(c.geom, '{}') as geom \n",
    "        FROM public.api_data_new apd \n",
    "        LEFT JOIN public.comuni c ON c.name = apd.nome \n",
    "        WHERE apd.uid = %s;\n",
    "    ''', (id,))\n",
    "    comune = cursor.fetchone()\n",
    "    cursor.close()\n",
    "    conn.close()\n",
    "    return jsonify(comune)\n",
    "\n",
    "@app.route('/')\n",
    "def index():\n",
    "    return 'Hello, World!'\n",
    "\n",
    "\n",
    "if __name__ == '__main__':\n",
    "    import os\n",
    "    import sys\n",
    "    if 'ipykernel' in sys.modules:\n",
    "        from werkzeug.serving import run_simple\n",
    "        run_simple('localhost', 5000, app)\n",
    "    else:\n",
    "        app.run(debug=True)\n"
   ]
  },
  {
   "cell_type": "code",
   "execution_count": null,
   "id": "66cf8f7a-0216-401e-ba50-5469ebfc570c",
   "metadata": {},
   "outputs": [],
   "source": []
  }
 ],
 "metadata": {
  "kernelspec": {
   "display_name": "Python 3 (ipykernel)",
   "language": "python",
   "name": "python3"
  },
  "language_info": {
   "codemirror_mode": {
    "name": "ipython",
    "version": 3
   },
   "file_extension": ".py",
   "mimetype": "text/x-python",
   "name": "python",
   "nbconvert_exporter": "python",
   "pygments_lexer": "ipython3",
   "version": "3.12.2"
  }
 },
 "nbformat": 4,
 "nbformat_minor": 5
}
